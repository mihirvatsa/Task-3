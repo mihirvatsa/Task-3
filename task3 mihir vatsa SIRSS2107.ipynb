{
 "cells": [
  {
   "cell_type": "markdown",
   "id": "aa7507ff",
   "metadata": {},
   "source": [
    "Task - 3\n",
    "\n",
    "Registration/referral ID - SIRSS2107\n",
    "\n",
    "Full Name: Mihir Vatsa."
   ]
  },
  {
   "cell_type": "markdown",
   "id": "a8a93179",
   "metadata": {},
   "source": [
    "Q1. Write a function to return nth term of Fibonacci sequence."
   ]
  },
  {
   "cell_type": "code",
   "execution_count": 4,
   "id": "88aac0c3",
   "metadata": {},
   "outputs": [
    {
     "name": "stdout",
     "output_type": "stream",
     "text": [
      "Enter the numeber:12\n"
     ]
    },
    {
     "data": {
      "text/plain": [
       "[0, 1, 1, 2, 3, 5, 8, 13, 21, 34, 55, 89]"
      ]
     },
     "execution_count": 4,
     "metadata": {},
     "output_type": "execute_result"
    }
   ],
   "source": [
    "def Fibonacci():\n",
    "    num = int(input('Enter the numeber:'))\n",
    "    Fibonacci_Sequence = [0,1]\n",
    "    \n",
    "    for i in range(0,(num+1)):\n",
    "        if num == 0:\n",
    "            return Fibonacci_Sequence[0]\n",
    "        elif num == 1:\n",
    "            return Fibonacci_Sequence\n",
    "        if i>2:\n",
    "            k = Fibonacci_Sequence[i-2] + Fibonacci_Sequence[i-3]\n",
    "            Fibonacci_Sequence.append(k)\n",
    "    return Fibonacci_Sequence\n",
    "Fibonacci()"
   ]
  },
  {
   "cell_type": "markdown",
   "id": "f919c1e3",
   "metadata": {},
   "source": [
    "Q2. Write a function to find out GCD of two numbers using EUCLID'S algorithm."
   ]
  },
  {
   "cell_type": "code",
   "execution_count": 5,
   "id": "40caeb8e",
   "metadata": {},
   "outputs": [
    {
     "name": "stdout",
     "output_type": "stream",
     "text": [
      "Enter first number:49\n",
      "Enter second number:54\n"
     ]
    },
    {
     "data": {
      "text/plain": [
       "1"
      ]
     },
     "execution_count": 5,
     "metadata": {},
     "output_type": "execute_result"
    }
   ],
   "source": [
    "def gcd():\n",
    "    num1 = int(input('Enter first number:'))\n",
    "    num2 = int(input('Enter second number:'))\n",
    "    \n",
    "    common_divisor_list = []\n",
    "    \n",
    "    for i in range(1,num1):\n",
    "        for j in range(1,num2):\n",
    "            if (num1//i and num1%i==0 and num2//j and num2%j==0):\n",
    "                if i == j:\n",
    "                    common_divisor_list.append(i)\n",
    "         \n",
    "    return common_divisor_list[-1]\n",
    "gcd()"
   ]
  },
  {
   "cell_type": "markdown",
   "id": "65373a35",
   "metadata": {},
   "source": [
    "Q3. Write a function to find LCM of two number in most optimizers way."
   ]
  },
  {
   "cell_type": "code",
   "execution_count": 8,
   "id": "24a58ddc",
   "metadata": {},
   "outputs": [
    {
     "name": "stdout",
     "output_type": "stream",
     "text": [
      "Enter first number:456\n",
      "Enter second number:228\n"
     ]
    },
    {
     "data": {
      "text/plain": [
       "912"
      ]
     },
     "execution_count": 8,
     "metadata": {},
     "output_type": "execute_result"
    }
   ],
   "source": [
    "def lcm():\n",
    "    num1 = int(input('Enter first number:'))\n",
    "    num2 = int(input('Enter second number:'))\n",
    "    \n",
    "    common_divisor_list = []\n",
    "    \n",
    "    for i in range(1,num1):\n",
    "        for j in range(1,num2):\n",
    "            if (num1//i and num1%i==0 and num2//j and num2%j==0):\n",
    "                if i == j:\n",
    "                    common_divisor_list.append(i)\n",
    "   \n",
    "    gcd = common_divisor_list[-1]\n",
    "    lcm = abs(num1*num2)//gcd\n",
    "    return lcm\n",
    "lcm()"
   ]
  },
  {
   "cell_type": "code",
   "execution_count": null,
   "id": "1dc1244e",
   "metadata": {},
   "outputs": [],
   "source": []
  }
 ],
 "metadata": {
  "kernelspec": {
   "display_name": "Python 3",
   "language": "python",
   "name": "python3"
  },
  "language_info": {
   "codemirror_mode": {
    "name": "ipython",
    "version": 3
   },
   "file_extension": ".py",
   "mimetype": "text/x-python",
   "name": "python",
   "nbconvert_exporter": "python",
   "pygments_lexer": "ipython3",
   "version": "3.8.8"
  }
 },
 "nbformat": 4,
 "nbformat_minor": 5
}
